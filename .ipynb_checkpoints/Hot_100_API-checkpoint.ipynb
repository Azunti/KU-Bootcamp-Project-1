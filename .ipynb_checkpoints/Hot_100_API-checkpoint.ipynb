{
 "cells": [
  {
   "cell_type": "code",
   "execution_count": 2,
   "id": "35a3c6e5-50e7-41dc-8541-3ccffe2fa1ad",
   "metadata": {},
   "outputs": [],
   "source": [
    "# Dependencies\n",
    "import pandas as pd\n",
    "from pathlib import Path\n",
    "import matplotlib.pyplot as plt\n",
    "import numpy as np\n",
    "import requests\n",
    "import time\n",
    "from scipy.stats import linregress\n",
    "from scipy import stats\n",
    "import json\n",
    "import spotipy\n",
    "from spotipy.oauth2 import SpotifyClientCredentials\n",
    "import sys\n",
    "from pprint import pprint\n",
    "from collections import Counter\n",
    "\n",
    "client_credentials_manager = SpotifyClientCredentials(client_id='3ef39dfa962c41cea5f23b2c82f5476f', client_secret='1a85a7e5c3824be5a4f34b8b82be84fc')\n",
    "sp = spotipy.Spotify(client_credentials_manager = client_credentials_manager)\n",
    "\n",
    "#NEED TO BRING IN CSV TO MAKE DATA VISUALIZATION WITH NEW DATAFRAMES FOR GENRE AND POPULARITY\n",
    "#bb_500_path = Path('Data/clean_bb_500.csv')\n",
    "#bb_500_path_api = pd.read_csv(bb_500_path)\n",
    "#bb_500_path_api.head()"
   ]
  },
  {
   "cell_type": "code",
   "execution_count": 3,
   "id": "72ad48bc-13bd-4a0f-82be-b631a6898480",
   "metadata": {},
   "outputs": [],
   "source": [
    "# importing raw csv\n",
    "tocm_df = pd.read_csv(Path(\"Data/tocm_rank.csv\"))\n",
    "genre_df=tocm_df\n",
    "genre_df[\"Artist ID\"]=\"\"\n",
    "genre_df[\"Genres\"]=\"\"\n",
    "genre_df[\"Popularity\"]=\"\"\n",
    "#line below to limit results and can be deactivated once code is working\n",
    "genre_df = genre_df.loc[(genre_df[\"time_on_chart\"] >50) , :]\n",
    "genre_df.head()"
   ]
  },
  {
   "cell_type": "code",
   "execution_count": 4,
   "id": "065c0215-48fd-4680-83f2-4a82f7a6f24f",
   "metadata": {},
   "outputs": [],
   "source": [
    "# Iterate over rows in the DataFrame\n",
    "for index, row in genre_df.iterrows():\n",
    "    artist = row[\"performer\"]\n",
    "    \n",
    "    # Search for the artist on Spotify\n",
    "    result = sp.search(q=artist, type='artist', limit=1)\n",
    "    \n",
    "    if result['artists']['items']:\n",
    "        artist_info = result['artists']['items'][0]\n",
    "        artist_id = artist_info['id']\n",
    "        \n",
    "        # Update the DataFrame with the artist ID\n",
    "        genre_df.loc[index, \"Artist ID\"] = artist_id\n",
    "        \n",
    "        # Create the artist URI\n",
    "        urn = f\"spotify:artist:{artist_id}\"\n",
    "        #print(urn)\n",
    "        \n",
    "        # Fetch artist details\n",
    "        artist_search = sp.artist(artist_id)\n",
    "        \n",
    "        # Update the DataFrame with the genre and popularity\n",
    "        genres = artist_search.get('genres', [])\n",
    "        genres = artist_search.get('genres', [])\n",
    "        genre_df.at[index, \"Genres\"] = ', '.join(genres) if genres else \"Unknown\"\n",
    "        \n",
    "        popularity = artist_search.get('popularity', 0)\n",
    "        genre_df.loc[index, \"Popularity\"] = popularity\n",
    "        \n",
    "        #Print the genre and popularity\n",
    "        pprint(genres)\n",
    "        print(f\"Popularity: {popularity}\")\n",
    "    else:\n",
    "        print(f\"No results found for artist: {artist}\")\n",
    "        \n",
    "# Display the updated DataFrame\n",
    "genre_df.head()"
   ]
  },
  {
   "cell_type": "code",
   "execution_count": null,
   "id": "90f3565d-4cca-4713-8768-2bef10b4c701",
   "metadata": {},
   "outputs": [],
   "source": [
    "sorted_df = genre_df.sort_values(by='Popularity', ascending=False)\n",
    "most_popular_song = sorted_df.iloc[0]['song']\n",
    "most_popular_artist = sorted_df.iloc[0]['performer']\n",
    "print(f'The most popular song based on Popularity score is {most_popular_song} by {most_popular_artist}.')\n",
    "#sorted_df.head()"
   ]
  },
  {
   "cell_type": "code",
   "execution_count": null,
   "id": "054401e4-5fd7-4b09-857a-1d1543cd6016",
   "metadata": {},
   "outputs": [],
   "source": [
    "#count the total genres listed for each row\n",
    "count_genre_df = pd.DataFrame(genre_df)\n",
    "\n",
    "#split the genre into seperate entries \n",
    "genre_series = count_genre_df['Genres'].str.split(', ', expand=True).stack()\n",
    "\n",
    "#new DF\n",
    "genre_count_df = pd.DataFrame(genre_series, columns=['Genre'])\n",
    "\n",
    "#Count the occurances\n",
    "genre_count = genre_count_df['Genre'].value_counts()\n",
    "\n",
    "#convert to new DF \n",
    "final_count_df = genre_count.reset_index()\n",
    "final_count_df.columns = ['Genre', 'Count']\n",
    "\n",
    "print(final_count_df)"
   ]
  },
  {
   "cell_type": "code",
   "execution_count": null,
   "id": "6dc92322-0666-457b-8c09-6c659d59d7ae",
   "metadata": {},
   "outputs": [],
   "source": []
  }
 ],
 "metadata": {
  "kernelspec": {
   "display_name": "Python 3 (ipykernel)",
   "language": "python",
   "name": "python3"
  },
  "language_info": {
   "codemirror_mode": {
    "name": "ipython",
    "version": 3
   },
   "file_extension": ".py",
   "mimetype": "text/x-python",
   "name": "python",
   "nbconvert_exporter": "python",
   "pygments_lexer": "ipython3",
   "version": "3.10.14"
  }
 },
 "nbformat": 4,
 "nbformat_minor": 5
}
